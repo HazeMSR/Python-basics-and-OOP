{
 "cells": [
  {
   "cell_type": "code",
   "execution_count": 2,
   "id": "b7717ce5-c317-4e74-8924-b5e285e25699",
   "metadata": {},
   "outputs": [
    {
     "data": {
      "text/plain": [
       "1"
      ]
     },
     "execution_count": 2,
     "metadata": {},
     "output_type": "execute_result"
    }
   ],
   "source": [
    "num = 1"
   ]
  },
  {
   "cell_type": "code",
   "execution_count": 3,
   "id": "81a4997a-285d-460c-9abe-f5b8582b0d25",
   "metadata": {},
   "outputs": [
    {
     "data": {
      "text/plain": [
       "int"
      ]
     },
     "execution_count": 3,
     "metadata": {},
     "output_type": "execute_result"
    }
   ],
   "source": [
    "type(num)"
   ]
  },
  {
   "cell_type": "code",
   "execution_count": 4,
   "id": "11cee9dd-1ff2-483b-b37e-086e7ca9a808",
   "metadata": {},
   "outputs": [
    {
     "data": {
      "text/plain": [
       "float"
      ]
     },
     "execution_count": 4,
     "metadata": {},
     "output_type": "execute_result"
    }
   ],
   "source": [
    "type(3.14)"
   ]
  },
  {
   "cell_type": "code",
   "execution_count": 5,
   "id": "fde430b5-2165-4a6b-a70a-db804b6fce3c",
   "metadata": {},
   "outputs": [
    {
     "data": {
      "text/plain": [
       "str"
      ]
     },
     "execution_count": 5,
     "metadata": {},
     "output_type": "execute_result"
    }
   ],
   "source": [
    "type(\"String\")"
   ]
  },
  {
   "cell_type": "code",
   "execution_count": 6,
   "id": "a519c59e-5448-4ccf-849f-dc88fdd34009",
   "metadata": {},
   "outputs": [
    {
     "data": {
      "text/plain": [
       "str"
      ]
     },
     "execution_count": 6,
     "metadata": {},
     "output_type": "execute_result"
    }
   ],
   "source": [
    "type('c')"
   ]
  },
  {
   "cell_type": "code",
   "execution_count": 7,
   "id": "ee2f811f-b65c-4490-a925-20951967605f",
   "metadata": {},
   "outputs": [
    {
     "data": {
      "text/plain": [
       "str"
      ]
     },
     "execution_count": 7,
     "metadata": {},
     "output_type": "execute_result"
    }
   ],
   "source": [
    "type('\\n')"
   ]
  },
  {
   "cell_type": "code",
   "execution_count": 9,
   "id": "89146def-336e-45a6-aca5-2e9476426f70",
   "metadata": {},
   "outputs": [
    {
     "data": {
      "text/plain": [
       "'hello world'"
      ]
     },
     "execution_count": 9,
     "metadata": {},
     "output_type": "execute_result"
    }
   ],
   "source": [
    "def function1():\n",
    "    txt = 'hello world'\n",
    "    return txt\n",
    "\n",
    "function1()"
   ]
  },
  {
   "cell_type": "code",
   "execution_count": 16,
   "id": "0ac3f18f-b260-4507-baa7-771843f863d6",
   "metadata": {},
   "outputs": [
    {
     "data": {
      "text/plain": [
       "'This is my string: hello world'"
      ]
     },
     "execution_count": 16,
     "metadata": {},
     "output_type": "execute_result"
    }
   ],
   "source": [
    "def function2() -> str:\n",
    "    txt = 'hello world'\n",
    "    return (f'This is my string: {txt}')\n",
    "\n",
    "function2()"
   ]
  },
  {
   "cell_type": "code",
   "execution_count": 20,
   "id": "3d82c563-ea9d-4595-a92c-cbdcc108597a",
   "metadata": {},
   "outputs": [
    {
     "data": {
      "text/plain": [
       "'This is my str1: Cadenota and this is default value: 1'"
      ]
     },
     "execution_count": 20,
     "metadata": {},
     "output_type": "execute_result"
    }
   ],
   "source": [
    "def function3(str1: str, defaul: int = 1):\n",
    "    return f'This is my str1: {str1} and this is default value: {defaul}'\n",
    "\n",
    "function3('Cadenota')"
   ]
  },
  {
   "cell_type": "code",
   "execution_count": 19,
   "id": "68a0c894-8504-4964-831c-34eef34c4f4a",
   "metadata": {},
   "outputs": [
    {
     "data": {
      "text/plain": [
       "'This is my str1: Cadenita and this is default value: 2'"
      ]
     },
     "execution_count": 19,
     "metadata": {},
     "output_type": "execute_result"
    }
   ],
   "source": [
    "function3(str1 = 'Cadenita', defaul = 2)"
   ]
  },
  {
   "cell_type": "code",
   "execution_count": 21,
   "id": "361d19c2-2320-46f5-a018-b984b16f622d",
   "metadata": {},
   "outputs": [
    {
     "data": {
      "text/plain": [
       "'This is my str1: Cadena and this is default value: String'"
      ]
     },
     "execution_count": 21,
     "metadata": {},
     "output_type": "execute_result"
    }
   ],
   "source": [
    "function3(str1 = 'Cadena', defaul = 'String')"
   ]
  },
  {
   "cell_type": "code",
   "execution_count": 22,
   "id": "b24d9493-b21d-433e-bdfe-ab58cbb98312",
   "metadata": {},
   "outputs": [
    {
     "data": {
      "text/plain": [
       "5"
      ]
     },
     "execution_count": 22,
     "metadata": {},
     "output_type": "execute_result"
    }
   ],
   "source": [
    "def function4(num1: int, num2: int = 1) -> int:\n",
    "    return num1 + num2\n",
    "\n",
    "function4(3 , 2)"
   ]
  },
  {
   "cell_type": "code",
   "execution_count": 23,
   "id": "586e9ab8-01c5-45be-901e-04d1a131af64",
   "metadata": {},
   "outputs": [
    {
     "data": {
      "text/plain": [
       "'Str2222'"
      ]
     },
     "execution_count": 23,
     "metadata": {},
     "output_type": "execute_result"
    }
   ],
   "source": [
    "function4('Str', '2222')"
   ]
  },
  {
   "cell_type": "code",
   "execution_count": 24,
   "id": "8757e31e-c28e-47ec-b9fc-9a10ccc38502",
   "metadata": {},
   "outputs": [
    {
     "ename": "TypeError",
     "evalue": "can only concatenate str (not \"int\") to str",
     "output_type": "error",
     "traceback": [
      "\u001b[0;31m---------------------------------------------------------------------------\u001b[0m",
      "\u001b[0;31mTypeError\u001b[0m                                 Traceback (most recent call last)",
      "Input \u001b[0;32mIn [24]\u001b[0m, in \u001b[0;36m<cell line: 1>\u001b[0;34m()\u001b[0m\n\u001b[0;32m----> 1\u001b[0m \u001b[43mfunction4\u001b[49m\u001b[43m(\u001b[49m\u001b[38;5;124;43m'\u001b[39;49m\u001b[38;5;124;43mStr\u001b[39;49m\u001b[38;5;124;43m'\u001b[39;49m\u001b[43m,\u001b[49m\u001b[43m \u001b[49m\u001b[38;5;241;43m2222\u001b[39;49m\u001b[43m)\u001b[49m\n",
      "Input \u001b[0;32mIn [22]\u001b[0m, in \u001b[0;36mfunction4\u001b[0;34m(num1, num2)\u001b[0m\n\u001b[1;32m      1\u001b[0m \u001b[38;5;28;01mdef\u001b[39;00m \u001b[38;5;21mfunction4\u001b[39m(num1: \u001b[38;5;28mint\u001b[39m, num2: \u001b[38;5;28mint\u001b[39m \u001b[38;5;241m=\u001b[39m \u001b[38;5;241m1\u001b[39m) \u001b[38;5;241m-\u001b[39m\u001b[38;5;241m>\u001b[39m \u001b[38;5;28mint\u001b[39m:\n\u001b[0;32m----> 2\u001b[0m     \u001b[38;5;28;01mreturn\u001b[39;00m \u001b[43mnum1\u001b[49m\u001b[43m \u001b[49m\u001b[38;5;241;43m+\u001b[39;49m\u001b[43m \u001b[49m\u001b[43mnum2\u001b[49m\n",
      "\u001b[0;31mTypeError\u001b[0m: can only concatenate str (not \"int\") to str"
     ]
    }
   ],
   "source": [
    "function4('Str', 2222)"
   ]
  },
  {
   "cell_type": "code",
   "execution_count": 29,
   "id": "0d859cfa-b70a-4950-ba48-b81f1db31d3d",
   "metadata": {},
   "outputs": [
    {
     "name": "stdout",
     "output_type": "stream",
     "text": [
      "0\n",
      "1\n",
      "2\n",
      "3\n",
      "4\n",
      "5\n",
      "6\n",
      "7\n",
      "8\n",
      "9\n"
     ]
    }
   ],
   "source": [
    "n = 10\n",
    "inicio = 0\n",
    "\n",
    "while inicio < n:\n",
    "    print(inicio)\n",
    "    inicio += 1"
   ]
  },
  {
   "cell_type": "code",
   "execution_count": 26,
   "id": "c8bc5f6d-47ee-4198-9e8f-673912d5b381",
   "metadata": {},
   "outputs": [
    {
     "name": "stdout",
     "output_type": "stream",
     "text": [
      "1\n",
      "2\n",
      "3\n",
      "4\n",
      "9\n"
     ]
    }
   ],
   "source": [
    "l = [1,2,3,4,9]\n",
    "\n",
    "for elem in l:\n",
    "    print(elem)"
   ]
  },
  {
   "cell_type": "code",
   "execution_count": 27,
   "id": "965f0403-0268-4487-b5f2-c349ccac485e",
   "metadata": {},
   "outputs": [
    {
     "name": "stdout",
     "output_type": "stream",
     "text": [
      "0\n",
      "1\n",
      "2\n",
      "3\n",
      "4\n",
      "5\n",
      "6\n",
      "7\n",
      "8\n",
      "9\n"
     ]
    }
   ],
   "source": [
    "for e in range(10):\n",
    "    print(e)"
   ]
  },
  {
   "cell_type": "code",
   "execution_count": 31,
   "id": "19c815fb-3fd6-4cab-b0e1-5cbc9cd70761",
   "metadata": {},
   "outputs": [
    {
     "name": "stdout",
     "output_type": "stream",
     "text": [
      "4\n",
      "5\n",
      "6\n",
      "7\n",
      "8\n",
      "9\n"
     ]
    }
   ],
   "source": [
    "for i in range(4, 10):\n",
    "    print(i)"
   ]
  },
  {
   "cell_type": "code",
   "execution_count": 33,
   "id": "bd580db9-2382-4157-bc52-3930a9e1c90b",
   "metadata": {},
   "outputs": [
    {
     "name": "stdout",
     "output_type": "stream",
     "text": [
      "C\n",
      "A\n",
      "r\n",
      "m\n",
      "e\n",
      "n\n"
     ]
    }
   ],
   "source": [
    "str_i = 'Carmen'\n",
    "for c in str_i:\n",
    "    if c == 'a':\n",
    "        print('A')\n",
    "    else:\n",
    "        print(c)"
   ]
  },
  {
   "cell_type": "code",
   "execution_count": 36,
   "id": "9d4eac87-41b8-4d41-833f-43404b974608",
   "metadata": {},
   "outputs": [
    {
     "data": {
      "text/plain": [
       "False"
      ]
     },
     "execution_count": 36,
     "metadata": {},
     "output_type": "execute_result"
    }
   ],
   "source": [
    "bol = 'otra' in str_i\n",
    "bol"
   ]
  },
  {
   "cell_type": "code",
   "execution_count": 38,
   "id": "0fea091f-b796-44c4-a333-1d27b7929cc7",
   "metadata": {},
   "outputs": [
    {
     "data": {
      "text/plain": [
       "False"
      ]
     },
     "execution_count": 38,
     "metadata": {},
     "output_type": "execute_result"
    }
   ],
   "source": [
    "bol = 200 in l\n",
    "bol"
   ]
  },
  {
   "cell_type": "code",
   "execution_count": 40,
   "id": "caf28479-84d7-4a3b-b280-2f0cdf05c332",
   "metadata": {},
   "outputs": [
    {
     "name": "stdout",
     "output_type": "stream",
     "text": [
      "edazo\n"
     ]
    }
   ],
   "source": [
    "pedazo = 'pedazo'\n",
    "print(pedazo[1:])"
   ]
  },
  {
   "cell_type": "code",
   "execution_count": 41,
   "id": "000d2999-3ddf-4474-9a5f-4046c7637d5b",
   "metadata": {},
   "outputs": [
    {
     "name": "stdout",
     "output_type": "stream",
     "text": [
      "pedaz\n"
     ]
    }
   ],
   "source": [
    "print(pedazo[:-1])"
   ]
  },
  {
   "cell_type": "code",
   "execution_count": 42,
   "id": "03dfd93c-554c-4370-bc91-2309169f2a6b",
   "metadata": {},
   "outputs": [
    {
     "name": "stdout",
     "output_type": "stream",
     "text": [
      "peda\n"
     ]
    }
   ],
   "source": [
    "print(pedazo[:-2])"
   ]
  },
  {
   "cell_type": "code",
   "execution_count": 43,
   "id": "abc4f1e9-ceba-455e-99b6-6f2b1f511686",
   "metadata": {},
   "outputs": [
    {
     "name": "stdout",
     "output_type": "stream",
     "text": [
      "ed\n"
     ]
    }
   ],
   "source": [
    "print(pedazo[1:3])"
   ]
  },
  {
   "cell_type": "code",
   "execution_count": 45,
   "id": "ed5ee3ed-1939-42b9-acdd-728b80ebfa53",
   "metadata": {},
   "outputs": [
    {
     "data": {
      "text/plain": [
       "'Global'"
      ]
     },
     "execution_count": 45,
     "metadata": {},
     "output_type": "execute_result"
    }
   ],
   "source": [
    "var_g = 'Global'\n",
    "def g():\n",
    "    return var_g\n",
    "g()"
   ]
  },
  {
   "cell_type": "code",
   "execution_count": null,
   "id": "3a95dc21-2e73-46a3-85ba-a04dadce24f6",
   "metadata": {},
   "outputs": [],
   "source": [
    "import os"
   ]
  },
  {
   "cell_type": "code",
   "execution_count": 47,
   "id": "55f2bab4-d3e7-4aa5-b2a3-49468ae35c84",
   "metadata": {},
   "outputs": [
    {
     "data": {
      "text/plain": [
       "<_io.TextIOWrapper name='work/sample.txt' mode='r' encoding='UTF-8'>"
      ]
     },
     "execution_count": 47,
     "metadata": {},
     "output_type": "execute_result"
    }
   ],
   "source": [
    "sample = open('work/sample.txt')\n",
    "sample"
   ]
  },
  {
   "cell_type": "code",
   "execution_count": 49,
   "id": "843c69b2-03ea-4150-8723-aeb891e93909",
   "metadata": {},
   "outputs": [],
   "source": [
    "for line in sample:\n",
    "    print(line)\n",
    "sample.close()"
   ]
  },
  {
   "cell_type": "code",
   "execution_count": 54,
   "id": "ece64874-3676-4f8c-9c91-d808f8e8293d",
   "metadata": {},
   "outputs": [
    {
     "name": "stdout",
     "output_type": "stream",
     "text": [
      "Sample text 1\n",
      "\n",
      "Sample text 2\n",
      "\n",
      "Sample text 3\n",
      "\n",
      "Sample text 4\n",
      "\n",
      "Sample text 5\n",
      "\n",
      "Sample text 6\n",
      "\n",
      "Sample text 7\n",
      "\n",
      "Sample text 8\n",
      "\n",
      "Sample text 9\n",
      "\n",
      "Sample text 10\n",
      "Se intento abrir un archivo\n"
     ]
    }
   ],
   "source": [
    "try:\n",
    "    sample2 = open('work/sample.txt')\n",
    "    for line in sample2:\n",
    "        print(line)\n",
    "    sample2.close()\n",
    "except:\n",
    "    print('Paso un error a la hora de abrir el archivo')\n",
    "finally:\n",
    "    print('Se intento abrir un archivo')"
   ]
  },
  {
   "cell_type": "code",
   "execution_count": 58,
   "id": "1a7a2286-ccab-4600-8abf-4b9587e23b31",
   "metadata": {},
   "outputs": [
    {
     "name": "stdout",
     "output_type": "stream",
     "text": [
      "Sample text 1\n",
      "\n",
      "Sample text 2\n",
      "\n",
      "Sample text 3\n",
      "\n",
      "Sample text 4\n",
      "\n",
      "Sample text 5\n",
      "\n",
      "Sample text 6\n",
      "\n",
      "Sample text 7\n",
      "\n",
      "Sample text 8\n",
      "\n",
      "Sample text 9\n",
      "\n",
      "Sample text 10\n"
     ]
    }
   ],
   "source": [
    "with open('work/sample.txt') as sample3:\n",
    "    for line in sample3:\n",
    "        print(line)"
   ]
  },
  {
   "cell_type": "code",
   "execution_count": 66,
   "id": "a31f6bf8-b8a0-4e2a-9f3b-411bc0f18f3d",
   "metadata": {},
   "outputs": [],
   "source": [
    "with open('work/sample2.txt', 'a') as sample4:\n",
    "    sample4.write('Sample text 12')"
   ]
  },
  {
   "cell_type": "code",
   "execution_count": 67,
   "id": "577c8f20-9ac6-4077-b2d0-d507741dabb2",
   "metadata": {},
   "outputs": [],
   "source": [
    "b = True\n",
    "a = 2\n",
    "## while b:\n",
    "   ## a += a"
   ]
  },
  {
   "cell_type": "code",
   "execution_count": 68,
   "id": "7fdebcf1-5f56-43a1-bbe4-0bdd4392663f",
   "metadata": {},
   "outputs": [],
   "source": [
    "def iteracion(l: list = []):\n",
    "    for elem in l:\n",
    "        yield elem"
   ]
  },
  {
   "cell_type": "code",
   "execution_count": 69,
   "id": "b44261b1-6dfd-46a0-aed9-52b97cabe287",
   "metadata": {},
   "outputs": [
    {
     "data": {
      "text/plain": [
       "<generator object iteracion at 0x7f137093b2e0>"
      ]
     },
     "execution_count": 69,
     "metadata": {},
     "output_type": "execute_result"
    }
   ],
   "source": [
    "generador = iteracion([1,2,3,4,5])\n",
    "generador"
   ]
  },
  {
   "cell_type": "code",
   "execution_count": 74,
   "id": "e8c2ef8f-8b26-4973-8fdf-adc924bf4e82",
   "metadata": {},
   "outputs": [
    {
     "data": {
      "text/plain": [
       "1"
      ]
     },
     "execution_count": 74,
     "metadata": {},
     "output_type": "execute_result"
    }
   ],
   "source": [
    "next(generador)"
   ]
  },
  {
   "cell_type": "code",
   "execution_count": 75,
   "id": "56f6447f-cf91-4ec4-9857-7e15cf34bd98",
   "metadata": {},
   "outputs": [
    {
     "data": {
      "text/plain": [
       "2"
      ]
     },
     "execution_count": 75,
     "metadata": {},
     "output_type": "execute_result"
    }
   ],
   "source": [
    "next(generador)"
   ]
  },
  {
   "cell_type": "code",
   "execution_count": 78,
   "id": "2fa62532-04ed-405b-a9cf-a2fc3245ac13",
   "metadata": {},
   "outputs": [],
   "source": [
    "def infinita():\n",
    "    b = True\n",
    "    a = 2\n",
    "    while b:\n",
    "        a += a\n",
    "        yield a"
   ]
  },
  {
   "cell_type": "code",
   "execution_count": 80,
   "id": "e5d32976-ca6a-45f6-a679-dec9aef359c1",
   "metadata": {},
   "outputs": [],
   "source": [
    "gen2 = infinita()"
   ]
  },
  {
   "cell_type": "code",
   "execution_count": 82,
   "id": "edf55937-8a97-4c58-9a56-89180f1d810b",
   "metadata": {},
   "outputs": [
    {
     "data": {
      "text/plain": [
       "8"
      ]
     },
     "execution_count": 82,
     "metadata": {},
     "output_type": "execute_result"
    }
   ],
   "source": [
    "next(gen2)"
   ]
  },
  {
   "cell_type": "code",
   "execution_count": 83,
   "id": "ce755440-9f59-48d8-a1ae-fb574920a6c2",
   "metadata": {},
   "outputs": [
    {
     "data": {
      "text/plain": [
       "16"
      ]
     },
     "execution_count": 83,
     "metadata": {},
     "output_type": "execute_result"
    }
   ],
   "source": [
    "next(gen2)"
   ]
  },
  {
   "cell_type": "code",
   "execution_count": 84,
   "id": "6bf9c32e-57b5-4410-975f-2c7627e3beaa",
   "metadata": {},
   "outputs": [
    {
     "name": "stdout",
     "output_type": "stream",
     "text": [
      "32\n",
      "64\n"
     ]
    }
   ],
   "source": [
    "for i in gen2:\n",
    "    if i < 100:\n",
    "        print(i)\n",
    "    else:\n",
    "        break;"
   ]
  },
  {
   "cell_type": "code",
   "execution_count": 85,
   "id": "67508d48-4cf9-4b55-a209-d8b90ae6e9be",
   "metadata": {},
   "outputs": [
    {
     "data": {
      "text/plain": [
       "<generator object infinita at 0x7f137093bf90>"
      ]
     },
     "execution_count": 85,
     "metadata": {},
     "output_type": "execute_result"
    }
   ],
   "source": [
    "gen2"
   ]
  },
  {
   "cell_type": "code",
   "execution_count": 86,
   "id": "39fa93c5-1227-49b0-a939-4744069318e1",
   "metadata": {},
   "outputs": [
    {
     "data": {
      "text/plain": [
       "256"
      ]
     },
     "execution_count": 86,
     "metadata": {},
     "output_type": "execute_result"
    }
   ],
   "source": [
    "next(gen2)"
   ]
  },
  {
   "cell_type": "code",
   "execution_count": 87,
   "id": "1fdaa9b6-d2cd-4f50-85c0-d089a46bf23c",
   "metadata": {},
   "outputs": [
    {
     "data": {
      "text/plain": [
       "[0, 1, 2, 3, 4, 5, 6, 7, 8, 9, 10, 11, 12, 13, 14, 15, 16, 17, 18, 19]"
      ]
     },
     "execution_count": 87,
     "metadata": {},
     "output_type": "execute_result"
    }
   ],
   "source": [
    "l2 = [ e for e in range(20)]\n",
    "l2"
   ]
  },
  {
   "cell_type": "code",
   "execution_count": 90,
   "id": "51d626f2-d935-4f3f-9338-9e87688a97f9",
   "metadata": {},
   "outputs": [
    {
     "data": {
      "text/plain": [
       "[11, 12, 13, 14, 15, 16, 17, 18, 19]"
      ]
     },
     "execution_count": 90,
     "metadata": {},
     "output_type": "execute_result"
    }
   ],
   "source": [
    "l3 = [ e for e in range(20) if e > 10 ]\n",
    "l3"
   ]
  },
  {
   "cell_type": "code",
   "execution_count": 91,
   "id": "a34d692d-a602-4f00-83f9-bfe871d95a62",
   "metadata": {},
   "outputs": [
    {
     "data": {
      "text/plain": [
       "[55, 60, 65, 70, 75, 80, 85, 90, 95]"
      ]
     },
     "execution_count": 91,
     "metadata": {},
     "output_type": "execute_result"
    }
   ],
   "source": [
    "l4 = [ e*5 for e in range(20) if e > 10 ]\n",
    "l4"
   ]
  },
  {
   "cell_type": "code",
   "execution_count": 92,
   "id": "a1914ede-5794-42ee-998a-9e438cd5a47d",
   "metadata": {},
   "outputs": [
    {
     "data": {
      "text/plain": [
       "<generator object <genexpr> at 0x7f13708d63c0>"
      ]
     },
     "execution_count": 92,
     "metadata": {},
     "output_type": "execute_result"
    }
   ],
   "source": [
    "g = ( e*5 for e in range(20) if e > 10 )\n",
    "g"
   ]
  },
  {
   "cell_type": "code",
   "execution_count": 93,
   "id": "a8652126-9ed7-446c-960e-ed3cca72ef1b",
   "metadata": {},
   "outputs": [
    {
     "name": "stdout",
     "output_type": "stream",
     "text": [
      "55\n",
      "60\n",
      "65\n",
      "70\n",
      "75\n",
      "80\n",
      "85\n",
      "90\n",
      "95\n"
     ]
    }
   ],
   "source": [
    "for i in l4:\n",
    "    print(i)"
   ]
  },
  {
   "cell_type": "code",
   "execution_count": 94,
   "id": "c7b4865b-b824-4cd5-a854-43c2d90ab20b",
   "metadata": {},
   "outputs": [
    {
     "name": "stdout",
     "output_type": "stream",
     "text": [
      "55\n",
      "60\n",
      "65\n",
      "70\n",
      "75\n",
      "80\n",
      "85\n",
      "90\n",
      "95\n"
     ]
    }
   ],
   "source": [
    "for i in g:\n",
    "    print(i)"
   ]
  },
  {
   "cell_type": "code",
   "execution_count": 133,
   "id": "6c9c39c4-7260-4196-9cae-81e164804ffb",
   "metadata": {},
   "outputs": [
    {
     "name": "stdout",
     "output_type": "stream",
     "text": [
      "Initialization of device\n",
      "Loading battery until get charged to 1000mA/h\n",
      "Initialization of device\n",
      "Loading battery until get charged to 3000mA/h\n",
      "Making call to number 55445544\n",
      "Consuming 1mA per minute from 3000\n",
      "Initialization of device\n",
      "Consuming 0.5mA per minute from 3000\n",
      "This the smartphone of Hazel with AMOLED screen with memory of 2048 MB\n",
      "This the smartwatch Hazel with memory of 1600 MB\n"
     ]
    }
   ],
   "source": [
    "class Device:\n",
    "    '''\n",
    "    Device constructor: Applying Pythonic Encapsulation\n",
    "    '''\n",
    "    def __init__(self, battery_len: int, num_of_pieces: int, owner_name: str, fabrication_country: str = 'China'):\n",
    "        self._battery_len = battery_len\n",
    "        self.__num_of_pieces = num_of_pieces\n",
    "        self._owner_name = owner_name\n",
    "        self._fabrication_country = fabrication_country\n",
    "        print('Initialization of device')\n",
    "        \n",
    "\n",
    "    '''\n",
    "    # Traditional encapsulation\n",
    "    def get_battery_len(self) -> int:\n",
    "        return self.battery_len\n",
    "    \n",
    "    def set_battery_len(self, battery_len: int):\n",
    "        self.battery_len = battery_len\n",
    "    '''\n",
    "    \n",
    "    def voltage_loading(self):\n",
    "        print(f'Loading battery until get charged to {self._battery_len}mA/h')\n",
    "    \n",
    "    # Overloading\n",
    "    def checking_num_of_pieces(self):\n",
    "        if num_of_pieces < 5:\n",
    "            print('Some thrash')\n",
    "        else:\n",
    "            print('Most valuable device')\n",
    "    \n",
    "    # Java Overloading\n",
    "    # def checking_num_of_pieces(self,param1,param2):\n",
    "    \n",
    "    def consume_electricity(self):\n",
    "        pass\n",
    "    \n",
    "    '''\n",
    "    Inheritance\n",
    "    '''\n",
    "class Smartphone(Device):\n",
    "    \n",
    "    def __init__(self, battery_len: int, num_of_pieces: int, owner_name: str, camera: int, screen_type: str = 'AMOLED', charger: bool = True, memory: int= 1024, fabrication_country: str = 'China'):\n",
    "        \n",
    "        super().__init__(battery_len, num_of_pieces, owner_name, fabrication_country)\n",
    "        self._screen_type = screen_type\n",
    "        self._charger = charger\n",
    "        self._camera = camera\n",
    "        self._memory = memory\n",
    "    \n",
    "    def make_call(self, phone_num: int):\n",
    "        print(f'Making call to number {phone_num}')\n",
    "        \n",
    "    # Overriding\n",
    "    def consume_electricity(self):\n",
    "        print(f'Consuming 1mA per minute from {self._battery_len}')\n",
    "\n",
    "    def __str__(self):\n",
    "        return f'This the smartphone of {self._owner_name} with {self._screen_type} screen with memory of {self._memory} MB'\n",
    "    \n",
    "class SmartWatch(Device):\n",
    "    \n",
    "    def __init__(self, battery_len, num_of_pieces, owner_name, fabrication_country, memory: int):\n",
    "        super().__init__(battery_len, num_of_pieces, owner_name, fabrication_country)\n",
    "        self._memory = memory\n",
    "        \n",
    "    # Overriding\n",
    "    def consume_electricity(self):\n",
    "        print(f'Consuming 0.5mA per minute from {self._battery_len}')\n",
    "    \n",
    "    def __str__(self):\n",
    "        return f'This the smartwatch {self._owner_name} with memory of {self._memory} MB'\n",
    "    \n",
    "    \n",
    "phone = Device(battery_len = 1000, num_of_pieces = 10, owner_name = 'Hazel')\n",
    "\n",
    "phone._battery_len\n",
    "phone._Device__num_of_pieces\n",
    "phone.voltage_loading()\n",
    "# phone.make_call(55445544)\n",
    "\n",
    "\n",
    "samsung_phone = Smartphone(3000, 20, 'Hazel', 4, 'AMOLED', True, 2048)\n",
    "samsung_phone.voltage_loading()\n",
    "samsung_phone.make_call(55445544)\n",
    "samsung_phone.consume_electricity()\n",
    "\n",
    "huawei_watch = SmartWatch(3000, 20, 'Hazel', 'China', 1600)\n",
    "huawei_watch.consume_electricity()\n",
    "\n",
    "print(samsung_phone)\n",
    "print(huawei_watch)"
   ]
  },
  {
   "cell_type": "code",
   "execution_count": 161,
   "id": "ba622679-24f4-4699-a728-8a5e0ddb535f",
   "metadata": {},
   "outputs": [
    {
     "name": "stdout",
     "output_type": "stream",
     "text": [
      "Initialization of device\n",
      "Your TV will be uninstall in about 6 hours if it got unfunctional\n"
     ]
    }
   ],
   "source": [
    "###\n",
    "# ABSTRACTION\n",
    "###\n",
    "from abc import abstractmethod, ABC\n",
    "\n",
    "class Device1(ABC):\n",
    "    \n",
    "    def __init__(self, battery_len: int, num_of_pieces: int, owner_name: str, fabrication_country: str = 'China'):\n",
    "        self._battery_len = battery_len\n",
    "        self.__num_of_pieces = num_of_pieces\n",
    "        self._owner_name = owner_name\n",
    "        self._fabrication_country = fabrication_country\n",
    "        print('Initialization of device')\n",
    "        \n",
    "    @abstractmethod\n",
    "    def voltage_loading(self):\n",
    "        pass\n",
    "    \n",
    "    @abstractmethod\n",
    "    def checking_num_of_pieces(self):\n",
    "        pass\n",
    "    \n",
    "\n",
    "class TV(Device1):\n",
    "    \n",
    "    def __init__(self, battery_len, num_of_pieces, owner_name, fabrication_country, definition: str, memory: int):\n",
    "        super().__init__(battery_len, num_of_pieces, owner_name, fabrication_country)\n",
    "        self._definition = definition\n",
    "        self._memory = memory\n",
    "    \n",
    "    \n",
    "    def voltage_loading(self, button_is: bool = True):\n",
    "        print(f'TV is ON')\n",
    "    \n",
    "    def checking_num_of_pieces(self):\n",
    "        if self._definition == '1080':\n",
    "            print(f'Your TV will be uninstall in about 6 hours if it got unfunctional')\n",
    "        else:\n",
    "            print(f'Your TV will be uninstall in about 36 hours if it got unfunctional')\n",
    "\n",
    "\n",
    "tv_hisense = TV(7000, 79, 'Hazel', 'China', '1080', 1024)\n",
    "tv_hisense.checking_num_of_pieces()"
   ]
  },
  {
   "cell_type": "code",
   "execution_count": null,
   "id": "cd84bae6-edd5-4ea0-8602-f7ef006f9464",
   "metadata": {},
   "outputs": [],
   "source": []
  },
  {
   "cell_type": "code",
   "execution_count": null,
   "id": "1a0a7253-0a0e-4516-948d-059dde8a32c9",
   "metadata": {},
   "outputs": [],
   "source": []
  },
  {
   "cell_type": "code",
   "execution_count": null,
   "id": "40160a4e-73d3-4a8c-8c2c-25aa538d843e",
   "metadata": {},
   "outputs": [],
   "source": []
  },
  {
   "cell_type": "code",
   "execution_count": 134,
   "id": "ccc6317c-8ae7-402e-82a0-f1d8a82c6aee",
   "metadata": {},
   "outputs": [
    {
     "name": "stdout",
     "output_type": "stream",
     "text": [
      "another function\n"
     ]
    }
   ],
   "source": [
    "def another_function():\n",
    "\tprint('another function')\n",
    "\n",
    "def turn_into_another_function(fnc):\n",
    "\treturn another_function\n",
    "\n",
    "@turn_into_another_function\n",
    "def a_function():\n",
    "\tprint('a function')\n",
    "    \n",
    "a_function()"
   ]
  },
  {
   "cell_type": "code",
   "execution_count": 141,
   "id": "b5723fca-60cb-455f-93d0-a5ce0aac27c2",
   "metadata": {},
   "outputs": [
    {
     "data": {
      "text/plain": [
       "2"
      ]
     },
     "execution_count": 141,
     "metadata": {},
     "output_type": "execute_result"
    }
   ],
   "source": [
    "dic1 = { 'subject': 'Person that has assigned some asignature', 'gum': 'Some plastic thing that allows us to erase something written with pencil', 'pencil': 'Some combination of wood and charcoal with the capacity of write'}\n",
    "dic1['gum']\n",
    "l5 = [ 0,1,2,3]\n",
    "l5[2]"
   ]
  },
  {
   "cell_type": "code",
   "execution_count": 145,
   "id": "0259ecbe-9faf-47b1-bf06-2583dc2df9f9",
   "metadata": {},
   "outputs": [
    {
     "name": "stdout",
     "output_type": "stream",
     "text": [
      "['rick_ross +1', 'a$ap_rocky +1', 'snoop_dogg +1']\n",
      " Turn strings_like_this into StringLikeThis \n"
     ]
    }
   ],
   "source": [
    "from functools import wraps\n",
    "\n",
    "def mapper(fnc):\n",
    "\n",
    "\t@wraps(fnc)\n",
    "\tdef inner(list_of_values):\n",
    "\t\t\"\"\"\tThis is the inner() \"\"\"\n",
    "\t\treturn [fnc(value) for value in list_of_values]\n",
    "\t\n",
    "\treturn inner\n",
    "\n",
    "@mapper\n",
    "def plus_one(s: str):\n",
    "    return f'{s} +1'\n",
    "\n",
    "@mapper\n",
    "def camelcase(s):\n",
    "\t\"\"\" Turn strings_like_this into StringLikeThis \"\"\"\n",
    "\n",
    "\treturn ''.join([ word.capitalize() for word in s.split('_') ])\n",
    "\n",
    "names = [\n",
    "\t'rick_ross',\n",
    "\t'a$ap_rocky',\n",
    "\t'snoop_dogg'\n",
    "]\n",
    "print(plus_one(names))\n",
    "print(camelcase.__doc__)"
   ]
  },
  {
   "cell_type": "code",
   "execution_count": 158,
   "id": "e6ec854d-3ae2-4c33-8260-3da669d62ec8",
   "metadata": {},
   "outputs": [
    {
     "data": {
      "text/plain": [
       "27"
      ]
     },
     "execution_count": 158,
     "metadata": {},
     "output_type": "execute_result"
    }
   ],
   "source": [
    "# n ^ n\n",
    "# Recursividad\n",
    "def exponente(n: int = 2, i: int = 0, res: int = 1):\n",
    "    if i < n:\n",
    "        return exponente(n, i + 1, res * n)\n",
    "    else:\n",
    "        return res\n",
    "\n",
    "exponente(3,0,1)"
   ]
  },
  {
   "cell_type": "code",
   "execution_count": 164,
   "id": "306f5c99-5d5d-4ead-9f75-7ef12a998d3c",
   "metadata": {},
   "outputs": [
    {
     "data": {
      "text/plain": [
       "'This is my upper string: MINUSCULASThis is my upper string: MINUSCULAS :)'"
      ]
     },
     "execution_count": 164,
     "metadata": {},
     "output_type": "execute_result"
    }
   ],
   "source": [
    "# Design Patterns\n",
    "# Gang of four\n",
    "\n",
    "# Pattern: Decorator\n",
    "def cualquier_nombre(f):\n",
    "    def inner(str1: str):\n",
    "        retval2 = f(str1) + f(str1)\n",
    "        # return def inner()\n",
    "        return retval2 + ' :)'\n",
    "    \n",
    "    # return def cualquier_nombre()\n",
    "    return inner\n",
    "        \n",
    "@cualquier_nombre\n",
    "def toUpper(str1: str) -> str:\n",
    "    retval = str1.upper()\n",
    "    return f'This is my upper string: {retval}'\n",
    "\n",
    "toUpper('minusculas')\n"
   ]
  },
  {
   "cell_type": "code",
   "execution_count": 167,
   "id": "e2dcc313-5deb-4d86-89ba-38ebf329cd8e",
   "metadata": {},
   "outputs": [
    {
     "name": "stdout",
     "output_type": "stream",
     "text": [
      "The file will upload to the following path: C:/Users/some/path\n",
      "With the data: 8=Dmdsdsdandsuldf with the quickest way\n"
     ]
    }
   ],
   "source": [
    "# Pattern Factory\n",
    "# Base\n",
    "class FileHandler:\n",
    "\tdef download(self, path):\n",
    "\t\tprint(f'The file will download to the following path: {path}')\n",
    "\n",
    "\tdef upload(self, data, path):\n",
    "\t\tprint(f'The file will upload to the following path: {path}'+ \n",
    "\t\tf'\\nWith the data: {data}')\n",
    "\n",
    "class NewFileHandler:\n",
    "\tdef download(self, path):\n",
    "\t\tprint(f'The file will download to the following path: {path} with the quickest way')\n",
    "\n",
    "\tdef upload(self, data, path):\n",
    "\t\tprint(f'The file will upload to the following path: {path}'+ \n",
    "\t\tf'\\nWith the data: {data} with the quickest way')\n",
    "\n",
    "class HandlerFactory:\n",
    "\tdef get_handler(self, version):\n",
    "\t\thandler = None\n",
    "\t\tif version == 'old':\n",
    "\t\t\thandler = FileHandler()\n",
    "\t\telif version == 'new':\n",
    "\t\t\thandler = NewFileHandler()\n",
    "\t\treturn handler\n",
    "\n",
    "    # Getting instance of new File Handler\n",
    "\thandler = HandlerFactory().get_handler('new')\n",
    "\n",
    "\t# upload some data\n",
    "\thandler.upload('8=Dmdsdsdandsuldf','C:/Users/some/path')"
   ]
  },
  {
   "cell_type": "code",
   "execution_count": 166,
   "id": "d6470486-74e8-4e22-a69e-685e071425ae",
   "metadata": {},
   "outputs": [
    {
     "name": "stdout",
     "output_type": "stream",
     "text": [
      "The file will upload to the following path: C:/Users/some/path\n",
      "With the data: 8=Dmdsdsdandsuldf with the quickest way\n"
     ]
    }
   ],
   "source": [
    "# Abstract class\n",
    "from abc import ABC, abstractmethod\n",
    "\n",
    "class FileHandlerInterface(ABC):\n",
    "\t@abstractmethod\n",
    "\tdef download(self, path):\n",
    "\t\traise NotImplementedError\n",
    "\n",
    "\t@abstractmethod\n",
    "\tdef upload(self, data, path):\n",
    "\t\traise NotImplementedError\n",
    "\n",
    "class FileHandler(FileHandlerInterface):\n",
    "\tdef download(self, path):\n",
    "\t\tprint(f'The file will download to the following path: {path}')\n",
    "\n",
    "\tdef upload(self, data, path):\n",
    "\t\tprint(f'The file will upload to the following path: {path}'+ \n",
    "\t\tf'\\nWith the data: {data}')\n",
    "\n",
    "class NewFileHandler(FileHandlerInterface):\n",
    "\tdef download(self, path):\n",
    "\t\tprint(f'The file will download to the following path: {path} with the quickest way')\n",
    "\n",
    "\tdef upload(self, data, path):\n",
    "\t\tprint(f'The file will upload to the following path: {path}'+ \n",
    "\t\tf'\\nWith the data: {data} with the quickest way')\n",
    "\n",
    "class HandlerFactory:\n",
    "\tdef get_handler(self, version):\n",
    "\t\thandler = None\n",
    "\t\tif version == 'old':\n",
    "\t\t\thandler = FileHandler()\n",
    "\t\telif version == 'new':\n",
    "\t\t\thandler = NewFileHandler()\n",
    "\t\treturn handler\n",
    "\n",
    "if __name__ == '__main__':\n",
    "\thandler = HandlerFactory().get_handler('new')\n",
    "\n",
    "\t# upload some data\n",
    "\thandler.upload('8=Dmdsdsdandsuldf','C:/Users/some/path')"
   ]
  },
  {
   "cell_type": "code",
   "execution_count": 168,
   "id": "c7ace65e-47a6-4f3f-8360-034f5cdaeb79",
   "metadata": {},
   "outputs": [
    {
     "name": "stdout",
     "output_type": "stream",
     "text": [
      "The file will upload to the following path: C:/Users/some/path\n",
      "With the data: 8=Dmdsdsdandsuldf with the quickest way\n"
     ]
    }
   ],
   "source": [
    "# Protocol\n",
    "from typing import Protocol\n",
    "\n",
    "class Handler(Protocol):\n",
    "\n",
    "\tdef download(self, path: str) -> bytes:\n",
    "\t\traise NotImplementedError\n",
    "\n",
    "\tdef upload(self, data: bytes, path: str):\n",
    "\t\traise NotImplementedError\n",
    "\n",
    "class FileHandler:\n",
    "\tdef download(self, path):\n",
    "\t\tprint(f'The file will download to the following path: {path}')\n",
    "\t\treturn bytes('Some random bytes','utf-8')\n",
    "\n",
    "\tdef upload(self, data, path):\n",
    "\t\tprint(f'The file will upload to the following path: {path}'+ \n",
    "\t\tf'\\nWith the data: {data}')\n",
    "\n",
    "class NewFileHandler:\n",
    "\tdef download(self, path):\n",
    "\t\tprint(f'The file will download to the following path: {path} with the quickest way')\n",
    "\t\treturn bytes('Some random bytes','utf-8')\n",
    "\n",
    "\tdef upload(self, data, path):\n",
    "\t\tprint(f'The file will upload to the following path: {path}'+ \n",
    "\t\tf'\\nWith the data: {data} with the quickest way')\n",
    "\n",
    "class HandlerFactory:\n",
    "\tdef get_handler(self, version) -> Handler:\n",
    "\t\thandler: Handler \n",
    "\t\tif version == 'old':\n",
    "\t\t\thandler = FileHandler()\n",
    "\t\telif version == 'new':\n",
    "\t\t\thandler = NewFileHandler()\n",
    "\t\telse:\n",
    "  \t\t\traise NotImplementedError\n",
    "\t\treturn handler\n",
    "\n",
    "if __name__ == '__main__':\n",
    "\thandler = HandlerFactory().get_handler('new')\n",
    "\n",
    "\t# upload some data\n",
    "\thandler.upload('8=Dmdsdsdandsuldf','C:/Users/some/path')"
   ]
  },
  {
   "cell_type": "code",
   "execution_count": 170,
   "id": "b7347e13-c503-4ab2-be1e-6d55d76a0157",
   "metadata": {},
   "outputs": [
    {
     "name": "stdout",
     "output_type": "stream",
     "text": [
      "The file will upload to the following path: C:/Users/some/path\n",
      "With the data: 8=Dmdsdsdandsuldf with the quickest way\n"
     ]
    }
   ],
   "source": [
    "# Pythonic way\n",
    "from typing import Protocol\n",
    "from abc import abstractmethod\n",
    "\n",
    "class Handler(Protocol):\n",
    "\t@abstractmethod\n",
    "\tdef download(self, path: str) -> bytes:\n",
    "\t\traise NotImplementedError\n",
    "\n",
    "\t@abstractmethod\n",
    "\tdef upload(self, data: bytes, path: str):\n",
    "\t\traise NotImplementedError\n",
    "\n",
    "class FileHandler(Handler):\n",
    "\tdef download(self, path):\n",
    "\t\tprint(f'The file will download to the following path: {path}')\n",
    "\t\treturn bytes('Some random bytes','utf-8')\n",
    "\n",
    "\tdef upload(self, data, path):\n",
    "\t\tprint(f'The file will upload to the following path: {path}'+ \n",
    "\t\tf'\\nWith the data: {data}')\n",
    "\n",
    "class NewFileHandler(Handler):\n",
    "\tdef download(self, path):\n",
    "\t\tprint(f'The file will download to the following path: {path} with the quickest way')\n",
    "\t\treturn bytes('Some quickest random bytes','utf-8')\n",
    "\n",
    "\tdef upload(self, data, path):\n",
    "\t\tprint(f'The file will upload to the following path: {path}'+ \n",
    "\t\tf'\\nWith the data: {data} with the quickest way')\n",
    "\n",
    "ALL_HANDLERS = {\n",
    "  'old': FileHandler,\n",
    "  'new': NewFileHandler,\n",
    "}\n",
    "\n",
    "def make_handler(version):\n",
    "\thandler: Handler\n",
    "\ttry:\n",
    "\t\thandler = ALL_HANDLERS[version]()\n",
    "\texcept KeyError as err:\n",
    "\t\traise NotImplementedError from err\n",
    "\treturn handler\n",
    "\n",
    "\n",
    "handler2 = make_handler('new')\n",
    "\n",
    "# upload some data\n",
    "handler2.upload('8=Dmdsdsdandsuldf','C:/Users/some/path')"
   ]
  },
  {
   "cell_type": "code",
   "execution_count": 172,
   "id": "f468324a-650f-4670-b5a0-7d10a7844a59",
   "metadata": {},
   "outputs": [
    {
     "name": "stdout",
     "output_type": "stream",
     "text": [
      "The file will upload to the following path: C:/Users/some/path\n",
      "With the data: 8=Dmdsdsdandsuldf with the quickest way\n"
     ]
    }
   ],
   "source": [
    "# Other way using Introspection\n",
    "from typing import Protocol\n",
    "\n",
    "class Handler(Protocol):\n",
    "\tdef download(self, path: str) -> bytes:\n",
    "\t\traise NotImplementedError\n",
    "\n",
    "\tdef upload(self, data: bytes, path: str):\n",
    "\t\traise NotImplementedError\n",
    "\n",
    "class FileHandler(Handler):\n",
    "\tversion = 'old'\n",
    "\t\n",
    "\tdef download(self, path):\n",
    "\t\tprint(f'The file will download to the following path: {path}')\n",
    "\t\treturn bytes('Some random bytes','utf-8')\n",
    "\n",
    "\tdef upload(self, data, path):\n",
    "\t\tprint(f'The file will upload to the following path: {path}'+ \n",
    "\t\tf'\\nWith the data: {data}')\n",
    "\n",
    "class NewFileHandler(Handler):\n",
    "\tversion = 'new'\n",
    "\n",
    "\tdef download(self, path):\n",
    "\t\tprint(f'The file will download to the following path: {path} with the quickest way')\n",
    "\t\treturn bytes('Some quickest random bytes','utf-8')\n",
    "\n",
    "\tdef upload(self, data, path):\n",
    "\t\tprint(f'The file will upload to the following path: {path}'+ \n",
    "\t\tf'\\nWith the data: {data} with the quickest way')\n",
    "\n",
    "ALL_HANDLERS = {\n",
    "  \"old\": FileHandler,\n",
    "  \"new\": NewFileHandler,\n",
    "}\n",
    "\n",
    "def make_handler(version):\n",
    "\thandler: Handler\n",
    "\ttry:\n",
    "\t\thandler = next(filter(lambda P: P.version == version, Handler.__subclasses__() )) ()\n",
    "\texcept StopIteration as err:\n",
    "\t\traise NotImplementedError from err\n",
    "\treturn handler\n",
    "\n",
    "\n",
    "handler2 = make_handler('new')\n",
    "\n",
    "# upload some data\n",
    "handler2.upload('8=Dmdsdsdandsuldf','C:/Users/some/path')\n",
    "\n"
   ]
  },
  {
   "cell_type": "code",
   "execution_count": null,
   "id": "796b8684-8521-466d-bd20-87ccbdbe65a2",
   "metadata": {},
   "outputs": [],
   "source": []
  },
  {
   "cell_type": "code",
   "execution_count": 100,
   "id": "ca8b87cc-f26b-4241-9052-4551b1f4c747",
   "metadata": {},
   "outputs": [
    {
     "data": {
      "text/plain": [
       "1000"
      ]
     },
     "execution_count": 100,
     "metadata": {},
     "output_type": "execute_result"
    }
   ],
   "source": [
    "# phone.battery_len"
   ]
  },
  {
   "cell_type": "code",
   "execution_count": 101,
   "id": "93fb9c6d-18be-41c8-b897-d1f859bfe882",
   "metadata": {},
   "outputs": [
    {
     "data": {
      "text/plain": [
       "1200"
      ]
     },
     "execution_count": 101,
     "metadata": {},
     "output_type": "execute_result"
    }
   ],
   "source": [
    "# phone.battery_len = 1200\n",
    "# phone.battery_len"
   ]
  },
  {
   "cell_type": "code",
   "execution_count": null,
   "id": "b5741ef0-592d-433e-a799-ca35d950cbe0",
   "metadata": {},
   "outputs": [],
   "source": []
  }
 ],
 "metadata": {
  "kernelspec": {
   "display_name": "Python 3 (ipykernel)",
   "language": "python",
   "name": "python3"
  },
  "language_info": {
   "codemirror_mode": {
    "name": "ipython",
    "version": 3
   },
   "file_extension": ".py",
   "mimetype": "text/x-python",
   "name": "python",
   "nbconvert_exporter": "python",
   "pygments_lexer": "ipython3",
   "version": "3.9.10"
  }
 },
 "nbformat": 4,
 "nbformat_minor": 5
}
